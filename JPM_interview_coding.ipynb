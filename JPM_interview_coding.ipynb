{
 "cells": [
  {
   "cell_type": "markdown",
   "id": "1e7b8440-7ddd-4374-9030-248732dbacac",
   "metadata": {},
   "source": [
    "# Problem 1"
   ]
  },
  {
   "cell_type": "code",
   "execution_count": 109,
   "id": "b4409ddc-6a2c-4c5b-af77-289ce6495d7f",
   "metadata": {},
   "outputs": [],
   "source": [
    "def get_word_w_most_char(statement, char):\n",
    "    '''\n",
    "    Params:\n",
    "    statement --> long string sentence\n",
    "    char --> single string charecter\n",
    "\n",
    "    Returns:\n",
    "    word in statement that contains the most instances of char.\n",
    "    If there is a tie in char instances, return the longer word .\n",
    "    If there is a tie in both char instances and word length, return first appeared word.\n",
    "\n",
    "    Assumptions:\n",
    "    statement always is a string of words (returns None is empty string '')\n",
    "    words in statement are always seperated by ' '\n",
    "    char always have a single string char. (else returns longest word)\n",
    "    Respects case of char --> i.e will only search upper case char if char is upper case, vice versa for lower case.\n",
    "    '''\n",
    "    \n",
    "    def get_char_count_n_length(word, char):\n",
    "        return word.count(char), len(word)\n",
    "    \n",
    "    words = statement.split(' ')\n",
    "\n",
    "    largest_char_count = 0\n",
    "    largest_letter_count = 0\n",
    "    res = None\n",
    "    \n",
    "    for word in words:\n",
    "        char_count, letter_count = get_char_count_n_length(word, char)\n",
    "        \n",
    "        if char_count > largest_char_count:\n",
    "            largest_char_count = char_count\n",
    "            largest_letter_count = letter_count\n",
    "            res = word\n",
    "        elif char_count == largest_char_count:\n",
    "            if letter_count > largest_letter_count:\n",
    "                largest_letter_count = letter_count\n",
    "                res = word \n",
    "\n",
    "    return res"
   ]
  },
  {
   "cell_type": "code",
   "execution_count": 110,
   "id": "155bbc19-ff13-4fe3-a565-5d7667fc1f39",
   "metadata": {},
   "outputs": [],
   "source": [
    "def test_get_word_w_most_char(statement, input_character, expected_res):\n",
    "    print(f'Statement: {statement}')\n",
    "    print(f'Input character: {input_character}')\n",
    "    print(f'Expected result: {expected_res}')\n",
    "    \n",
    "    res = get_word_w_most_char(statement, input_character)\n",
    "    if res == expected_res:\n",
    "        print('!!!! Test Successful !!!!')\n",
    "    else:\n",
    "        print('!!!! Test FAILED !!!!')\n",
    "        print(f'Your Ans: {res}')\n",
    " "
   ]
  },
  {
   "cell_type": "code",
   "execution_count": 111,
   "id": "31552960-8a28-48e0-a45b-6f3f3afd9a60",
   "metadata": {},
   "outputs": [
    {
     "name": "stdout",
     "output_type": "stream",
     "text": [
      " ==== Running Test: 0 ==== \n",
      "Statement: This is a very long sentence and I want to educate everyone in this whole crazy world….\n",
      "Input character: z\n",
      "Expected result: crazy\n",
      "!!!! Test Successful !!!!\n",
      " ==== Completed Test: 0 ==== \n",
      "\n",
      " ==== Running Test: 1 ==== \n",
      "Statement: This is a very long sentence and I want to educate everyone in this whole crazy world….\n",
      "Input character: I\n",
      "Expected result: I\n",
      "!!!! Test Successful !!!!\n",
      " ==== Completed Test: 1 ==== \n",
      "\n",
      " ==== Running Test: 2 ==== \n",
      "Statement: This is a very long sentence and I want to educate everyone in this whole crazy world….\n",
      "Input character: e\n",
      "Expected result: sentence\n",
      "!!!! Test Successful !!!!\n",
      " ==== Completed Test: 2 ==== \n",
      "\n"
     ]
    }
   ],
   "source": [
    "tests_params_1 = [\n",
    "    {'statement':'This is a very long sentence and I want to educate everyone in this whole crazy world….',\n",
    "     'input_character':'z',\n",
    "     'expected_res':'crazy'},\n",
    "    {'statement':'This is a very long sentence and I want to educate everyone in this whole crazy world….', \n",
    "     'input_character':'I', \n",
    "     'expected_res':'I'},\n",
    "    {'statement':'This is a very long sentence and I want to educate everyone in this whole crazy world….', \n",
    "     'input_character':'e', \n",
    "     'expected_res':'sentence'},\n",
    "]\n",
    "\n",
    "for idx, test_param in enumerate(tests_params_1):\n",
    "    print(f' ==== Running Test: {idx} ==== ')\n",
    "    test_get_word_w_most_char(test_param['statement'], test_param['input_character'], test_param['expected_res'])\n",
    "    print(f' ==== Completed Test: {idx} ==== \\n')\n"
   ]
  },
  {
   "cell_type": "markdown",
   "id": "18894871-4e45-4f6d-8cd5-0002bd94e206",
   "metadata": {},
   "source": [
    "# Problem 2"
   ]
  },
  {
   "cell_type": "code",
   "execution_count": 106,
   "id": "062bf379-a420-43f3-9c18-3fe5cbe6a1cc",
   "metadata": {},
   "outputs": [],
   "source": [
    "def get_longest_1s_starting_idx(number):\n",
    "    '''\n",
    "    Params:\n",
    "    number --> int\n",
    "\n",
    "    Returns:\n",
    "    int --> starting index with the longest 1s sequence in binary of number\n",
    "\n",
    "    Assumptions:\n",
    "    number param is always an int\n",
    "    '''\n",
    "\n",
    "    def get_len_of_1s(seq, idx, length=0):\n",
    "        if idx < len(seq) and seq[idx] == '1':\n",
    "            length += 1\n",
    "            idx += 1\n",
    "             \n",
    "            return get_len_of_1s(seq, idx, length)\n",
    "        else:\n",
    "            return length\n",
    "\n",
    "    binary = \"{0:b}\".format(int(number))\n",
    "    \n",
    "    pt = 0\n",
    "    max_idx = 0\n",
    "    max_length = 0\n",
    "    \n",
    "    while pt < len(binary):\n",
    "        if binary[pt] == '0': # skips all 0\n",
    "            pt += 1\n",
    "        else: \n",
    "            length = get_len_of_1s(binary, pt) # once we hit a 1, get the length of 1 sequence\n",
    "            if length > max_length:\n",
    "                max_length = length \n",
    "                max_idx = pt # update starting idx i current 1 seq is longer then previous\n",
    "            pt += length # skips the whole 1 seq we just checked\n",
    "\n",
    "    return max_idx+1"
   ]
  },
  {
   "cell_type": "code",
   "execution_count": 107,
   "id": "b9f7e46e-d310-4f7f-a16e-0e006d42a929",
   "metadata": {},
   "outputs": [],
   "source": [
    "def test_get_longest_1s_starting_idx(input_num, expected_res):\n",
    "    print(f'Number: {input_num}')\n",
    "    print(f'Expected result: {expected_res}')\n",
    "    \n",
    "    res = get_longest_1s_starting_idx(input_num)\n",
    "    if res == expected_res:\n",
    "        print('!!!! Test Successful !!!!')\n",
    "    else:\n",
    "        print('!!!! Test FAILED !!!!')\n",
    "        print(f'Your Ans: {res}')"
   ]
  },
  {
   "cell_type": "code",
   "execution_count": 108,
   "id": "867c82fd-824f-472d-ac34-d1b434336270",
   "metadata": {},
   "outputs": [
    {
     "name": "stdout",
     "output_type": "stream",
     "text": [
      " ==== Running Test: 0 ==== \n",
      "Number: 156\n",
      "Expected result: 4\n",
      "!!!! Test Successful !!!!\n",
      " ==== Completed Test: 0 ==== \n",
      "\n",
      " ==== Running Test: 1 ==== \n",
      "Number: 88\n",
      "Expected result: 3\n",
      "!!!! Test Successful !!!!\n",
      " ==== Completed Test: 1 ==== \n",
      "\n"
     ]
    }
   ],
   "source": [
    "tests_params_2 = [\n",
    "    {'input_num':156, 'expected_res':4},\n",
    "    {'input_num':88, 'expected_res':3},\n",
    "]\n",
    "\n",
    "for idx, test_param in enumerate(tests_params_2):\n",
    "    print(f' ==== Running Test: {idx} ==== ')\n",
    "    test_get_longest_1s_starting_idx(test_param['input_num'], test_param['expected_res'])\n",
    "    print(f' ==== Completed Test: {idx} ==== \\n')"
   ]
  },
  {
   "cell_type": "code",
   "execution_count": null,
   "id": "f4e3a96c-d861-41b4-92da-3e21e3ea3ba3",
   "metadata": {},
   "outputs": [],
   "source": []
  }
 ],
 "metadata": {
  "kernelspec": {
   "display_name": "Python 3 (ipykernel)",
   "language": "python",
   "name": "python3"
  },
  "language_info": {
   "codemirror_mode": {
    "name": "ipython",
    "version": 3
   },
   "file_extension": ".py",
   "mimetype": "text/x-python",
   "name": "python",
   "nbconvert_exporter": "python",
   "pygments_lexer": "ipython3",
   "version": "3.11.9"
  }
 },
 "nbformat": 4,
 "nbformat_minor": 5
}
